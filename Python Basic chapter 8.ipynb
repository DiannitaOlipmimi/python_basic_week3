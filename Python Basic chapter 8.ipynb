{
 "metadata": {
  "language_info": {
   "codemirror_mode": {
    "name": "ipython",
    "version": 3
   },
   "file_extension": ".py",
   "mimetype": "text/x-python",
   "name": "python",
   "nbconvert_exporter": "python",
   "pygments_lexer": "ipython3",
   "version": "3.8.2"
  },
  "orig_nbformat": 4,
  "kernelspec": {
   "name": "python3",
   "display_name": "Python 3.8.2 64-bit"
  },
  "interpreter": {
   "hash": "c33435f55a7315acd731686d420f686eddd34b7637d6c6be840a5486afddfda9"
  }
 },
 "nbformat": 4,
 "nbformat_minor": 2,
 "cells": [
  {
   "source": [
    "## 8.2. Boolean Values and Boolean Expressions\n",
    "---\n",
    "selain jenis data strings, int, float, list, tuple terdapat pula boolean. boolean memiliki 2 nilai yaitu TRUE dan FALSE yang biasanya digunakan dalam Expressions.\n",
    "\n",
    "operator yang biasa digunakan dalam Boolean,\n",
    "- x != y               # x is not equal to y\n",
    "- x > y                # x is greater than y\n",
    "- x < y                # x is less than y\n",
    "- x >= y               # x is greater than or equal to y\n",
    "- x <= y               # x is less than or equal to y"
   ],
   "cell_type": "markdown",
   "metadata": {}
  },
  {
   "cell_type": "code",
   "execution_count": 1,
   "metadata": {},
   "outputs": [
    {
     "output_type": "stream",
     "name": "stdout",
     "text": [
      "True\n<class 'bool'>\n<class 'bool'>\n"
     ]
    }
   ],
   "source": [
    "print(True)\n",
    "print(type(True))\n",
    "print(type(False))"
   ]
  },
  {
   "cell_type": "code",
   "execution_count": 2,
   "metadata": {},
   "outputs": [
    {
     "output_type": "stream",
     "name": "stdout",
     "text": [
      "<class 'bool'>\n<class 'str'>\n"
     ]
    }
   ],
   "source": [
    "print(type(True))\n",
    "print(type(\"True\"))"
   ]
  },
  {
   "cell_type": "code",
   "execution_count": 4,
   "metadata": {},
   "outputs": [
    {
     "output_type": "stream",
     "name": "stdout",
     "text": [
      "True\nFalse\n"
     ]
    }
   ],
   "source": [
    "print(5 == 5) #membandingkan 2 nilai\n",
    "print(5 == 6) #True bila benar dan False bila salah"
   ]
  },
  {
   "source": [
    "## 8.3 Logical operators\n",
    "---\n",
    "dalam Python terdapat 3 operator logika yaitu and, or, dan not."
   ],
   "cell_type": "markdown",
   "metadata": {}
  },
  {
   "cell_type": "code",
   "execution_count": 5,
   "metadata": {},
   "outputs": [
    {
     "output_type": "stream",
     "name": "stdout",
     "text": [
      "True\nFalse\n"
     ]
    }
   ],
   "source": [
    "x = 5\n",
    "print(x>0 and x<10)\n",
    "\n",
    "n = 25\n",
    "print(n%2 == 0 or n%3 == 0)"
   ]
  },
  {
   "cell_type": "code",
   "execution_count": 6,
   "metadata": {},
   "outputs": [
    {
     "output_type": "stream",
     "name": "stdout",
     "text": [
      "False\n"
     ]
    }
   ],
   "source": [
    "print(x > 0 and x < 5)"
   ]
  },
  {
   "source": [
    "## 8.4. The in and not in operators\n",
    "---\n",
    "operator in dan not in. operator in digunakan untuk menguji apakah suatu string merupakan substring"
   ],
   "cell_type": "markdown",
   "metadata": {}
  },
  {
   "cell_type": "code",
   "execution_count": 7,
   "metadata": {},
   "outputs": [
    {
     "output_type": "stream",
     "name": "stdout",
     "text": [
      "True\nFalse\nTrue\nFalse\n"
     ]
    }
   ],
   "source": [
    "print('p' in 'apple')\n",
    "print('i' in 'apple')\n",
    "print('ap' in 'apple')\n",
    "print('pa' in 'apple')"
   ]
  },
  {
   "cell_type": "code",
   "execution_count": 9,
   "metadata": {},
   "outputs": [
    {
     "output_type": "stream",
     "name": "stdout",
     "text": [
      "True\nTrue\nTrue\nTrue\n"
     ]
    }
   ],
   "source": [
    "print('a' in 'a')\n",
    "print('apple' in 'apple')\n",
    "print('' in 'a')\n",
    "print('' in 'apple')"
   ]
  },
  {
   "cell_type": "code",
   "execution_count": 10,
   "metadata": {},
   "outputs": [
    {
     "output_type": "stream",
     "name": "stdout",
     "text": [
      "True\n"
     ]
    }
   ],
   "source": [
    "print('x' not in 'apple')"
   ]
  },
  {
   "cell_type": "code",
   "execution_count": 11,
   "metadata": {},
   "outputs": [
    {
     "output_type": "stream",
     "name": "stdout",
     "text": [
      "True\nTrue\nFalse\n"
     ]
    }
   ],
   "source": [
    "print(\"a\" in [\"a\", \"b\", \"c\", \"d\"]) #operator in not in dalam list\n",
    "print(9 in [3, 2, 9, 10, 9.0])\n",
    "print('wow' not in ['gee wiz', 'gosh golly', 'wow', 'amazing'])"
   ]
  },
  {
   "cell_type": "code",
   "execution_count": 12,
   "metadata": {},
   "outputs": [
    {
     "output_type": "stream",
     "name": "stdout",
     "text": [
      "False\n"
     ]
    }
   ],
   "source": [
    "print(\"a\" in [\"apple\", \"absolutely\", \"application\", \"nope\"])"
   ]
  },
  {
   "cell_type": "code",
   "execution_count": null,
   "metadata": {},
   "outputs": [],
   "source": []
  }
 ]
}