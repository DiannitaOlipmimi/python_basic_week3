{
 "metadata": {
  "language_info": {
   "codemirror_mode": {
    "name": "ipython",
    "version": 3
   },
   "file_extension": ".py",
   "mimetype": "text/x-python",
   "name": "python",
   "nbconvert_exporter": "python",
   "pygments_lexer": "ipython3",
   "version": 3
  },
  "orig_nbformat": 4
 },
 "nbformat": 4,
 "nbformat_minor": 2,
 "cells": [
  {
   "source": [
    "## 9.1  Introduction: Transforming Sequences\n",
    "---\n",
    "mengubah urutan atau **Sequences** \n",
    "###Learning Goals\n",
    "- memahami tipe data yang dapat dirubah dan tidak dapat dirubah\n",
    "- memahami bagaimana membuat string baru dari string yang telah ada dan tidak merubahnya\n",
    "\n",
    "###Objectives\n",
    "1. concatenate\n",
    "2. index operator\n",
    "3. substring (slice)\n",
    "4. search - contains in / not in and index\n",
    "5. find method\n",
    "6. append\n",
    "7. join\n",
    "8. split\n",
    "9. string format method"
   ],
   "cell_type": "markdown",
   "metadata": {}
  },
  {
   "cell_type": "code",
   "execution_count": null,
   "metadata": {},
   "outputs": [],
   "source": []
  }
 ]
}